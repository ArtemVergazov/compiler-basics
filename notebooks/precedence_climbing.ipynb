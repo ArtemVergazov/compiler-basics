{
 "cells": [
  {
   "cell_type": "code",
   "execution_count": 1,
   "metadata": {},
   "outputs": [],
   "source": [
    "from typing import Iterator, Optional\n",
    "import re"
   ]
  },
  {
   "cell_type": "code",
   "execution_count": 2,
   "metadata": {},
   "outputs": [],
   "source": [
    "class Tok:\n",
    "    def __init__(self, name: str, value: str) -> None:\n",
    "        self.name = name\n",
    "        self.value = value"
   ]
  },
  {
   "cell_type": "code",
   "execution_count": 3,
   "metadata": {},
   "outputs": [],
   "source": [
    "class Tokenizer:\n",
    "    TOKPATTERN = re.compile(\"\\s*(?:(\\d+)|(.))\")\n",
    "\n",
    "    def __init__(self, source: str) -> None:\n",
    "        self._tokgen = self._gen_tokens(source)\n",
    "        self.cur_token: Tok | None = None\n",
    "\n",
    "    def get_next_token(self) -> Optional[Tok]:\n",
    "        try:\n",
    "            self.cur_token = next(self._tokgen)\n",
    "        except StopIteration:\n",
    "            self.cur_token = None\n",
    "        return self.cur_token\n",
    "\n",
    "    def _gen_tokens(self, source: str) -> Iterator[Tok]:\n",
    "        number: str\n",
    "        operator: str\n",
    "        for number, operator in self.TOKPATTERN.findall(source):\n",
    "            if number:\n",
    "                yield Tok('NUMBER', number)\n",
    "            elif operator == '(':\n",
    "                yield Tok('LEFTPAREN', '(')\n",
    "            elif operator == ')':\n",
    "                yield Tok('RIGHTPAREN', ')')\n",
    "            else:\n",
    "                yield Tok('BINOP', operator)"
   ]
  },
  {
   "cell_type": "code",
   "execution_count": 4,
   "metadata": {},
   "outputs": [],
   "source": [
    "class OpInfo:\n",
    "    def __init__(self, prec, assoc):\n",
    "        self.prec = prec\n",
    "        self.assoc = assoc"
   ]
  },
  {
   "cell_type": "code",
   "execution_count": 5,
   "metadata": {},
   "outputs": [],
   "source": [
    "OPINFO_MAP = {\n",
    "    '+':    OpInfo(1, 'LEFT'),\n",
    "    '-':    OpInfo(1, 'LEFT'),\n",
    "    '*':    OpInfo(2, 'LEFT'),\n",
    "    '/':    OpInfo(2, 'LEFT'),\n",
    "    '^':    OpInfo(3, 'RIGHT'),\n",
    "}"
   ]
  },
  {
   "cell_type": "code",
   "execution_count": 6,
   "metadata": {},
   "outputs": [],
   "source": [
    "def parse_error(msg):\n",
    "    print(msg)\n",
    "    exit(code=1)"
   ]
  },
  {
   "cell_type": "code",
   "execution_count": 7,
   "metadata": {},
   "outputs": [],
   "source": [
    "def compute_expr():\n",
    "    pass"
   ]
  },
  {
   "cell_type": "code",
   "execution_count": 8,
   "metadata": {},
   "outputs": [],
   "source": [
    "def compute_atom(tokenizer):\n",
    "    tok = tokenizer.cur_token\n",
    "    if tok.name == 'LEFTPAREN':\n",
    "        tokenizer.get_next_token()\n",
    "        val = compute_expr(tokenizer, 1)\n",
    "        if tokenizer.cur_token.name != 'RIGHTPAREN':\n",
    "            parse_error('unmatched \"(\"')\n",
    "        tokenizer.get_next_token()\n",
    "        return val\n",
    "    elif tok is None:\n",
    "            parse_error('source ended unexpectedly')\n",
    "    elif tok.name == 'BINOP':\n",
    "        parse_error('expected an atom, not an operator \"%s\"' % tok.value)\n",
    "    else:\n",
    "        assert tok.name == 'NUMBER'\n",
    "        tokenizer.get_next_token()\n",
    "        return int(tok.value)"
   ]
  },
  {
   "cell_type": "code",
   "execution_count": 9,
   "metadata": {},
   "outputs": [],
   "source": [
    "def compute_op(op, lhs, rhs):\n",
    "    lhs = int(lhs); rhs = int(rhs)\n",
    "    if op == '+':   return lhs + rhs\n",
    "    elif op == '-': return lhs - rhs\n",
    "    elif op == '*': return lhs * rhs\n",
    "    elif op == '/': return lhs / rhs\n",
    "    elif op == '^': return lhs ** rhs\n",
    "    else:\n",
    "        parse_error('unknown operator \"%s\"' % op)"
   ]
  },
  {
   "cell_type": "code",
   "execution_count": 10,
   "metadata": {},
   "outputs": [],
   "source": [
    "def compute_expr(tokenizer, min_prec):\n",
    "    atom_lhs = compute_atom(tokenizer)\n",
    "\n",
    "    while True:\n",
    "        cur = tokenizer.cur_token\n",
    "        if (cur is None or cur.name != 'BINOP'\n",
    "                        or OPINFO_MAP[cur.value].prec < min_prec):\n",
    "            break\n",
    "\n",
    "        # Inside this loop the current token is a binary operator\n",
    "        assert cur.name == 'BINOP'\n",
    "\n",
    "        # Get the operator's precedence and associativity, and compute a\n",
    "        # minimal precedence for the recursive call\n",
    "        op = cur.value\n",
    "        prec = OPINFO_MAP[op].prec\n",
    "        assoc = OPINFO_MAP[op].assoc\n",
    "        next_min_prec = prec + 1 if assoc == 'LEFT' else prec\n",
    "\n",
    "        # Consume the current token and prepare the next one for the\n",
    "        # recursive call\n",
    "        tokenizer.get_next_token()\n",
    "        atom_rhs = compute_expr(tokenizer, next_min_prec)\n",
    "\n",
    "        # Update lhs with the new value\n",
    "        atom_lhs = compute_op(op, atom_lhs, atom_rhs)\n",
    "\n",
    "    return atom_lhs"
   ]
  },
  {
   "cell_type": "code",
   "execution_count": 14,
   "metadata": {},
   "outputs": [
    {
     "data": {
      "text/plain": [
       "11"
      ]
     },
     "execution_count": 14,
     "metadata": {},
     "output_type": "execute_result"
    }
   ],
   "source": [
    "tokenizer = Tokenizer('1+2*3+4')\n",
    "tokenizer.get_next_token()\n",
    "compute_expr(tokenizer, 1)"
   ]
  },
  {
   "cell_type": "code",
   "execution_count": null,
   "metadata": {},
   "outputs": [],
   "source": []
  }
 ],
 "metadata": {
  "kernelspec": {
   "display_name": "base",
   "language": "python",
   "name": "python3"
  },
  "language_info": {
   "codemirror_mode": {
    "name": "ipython",
    "version": 3
   },
   "file_extension": ".py",
   "mimetype": "text/x-python",
   "name": "python",
   "nbconvert_exporter": "python",
   "pygments_lexer": "ipython3",
   "version": "3.9.21"
  }
 },
 "nbformat": 4,
 "nbformat_minor": 2
}
